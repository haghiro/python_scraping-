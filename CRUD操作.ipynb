{
 "cells": [
  {
   "cell_type": "code",
   "execution_count": 2,
   "metadata": {},
   "outputs": [],
   "source": [
    "from assets.database import db_session\n",
    "from assets.database import init_db\n",
    "from assets.models import Data\n",
    "\n",
    "import datetime"
   ]
  },
  {
   "cell_type": "code",
   "execution_count": 3,
   "metadata": {},
   "outputs": [
    {
     "name": "stdout",
     "output_type": "stream",
     "text": [
      "2020-10-21 21:08:55,359 INFO sqlalchemy.engine.base.Engine SELECT CAST('test plain returns' AS VARCHAR(60)) AS anon_1\n",
      "2020-10-21 21:08:55,360 INFO sqlalchemy.engine.base.Engine ()\n",
      "2020-10-21 21:08:55,361 INFO sqlalchemy.engine.base.Engine SELECT CAST('test unicode returns' AS VARCHAR(60)) AS anon_1\n",
      "2020-10-21 21:08:55,361 INFO sqlalchemy.engine.base.Engine ()\n",
      "2020-10-21 21:08:55,363 INFO sqlalchemy.engine.base.Engine PRAGMA main.table_info(\"data\")\n",
      "2020-10-21 21:08:55,364 INFO sqlalchemy.engine.base.Engine ()\n"
     ]
    }
   ],
   "source": [
    "init_db()"
   ]
  },
  {
   "cell_type": "code",
   "execution_count": 5,
   "metadata": {},
   "outputs": [
    {
     "data": {
      "text/plain": [
       "datetime.date(2020, 10, 21)"
      ]
     },
     "execution_count": 5,
     "metadata": {},
     "output_type": "execute_result"
    }
   ],
   "source": [
    "date = datetime.date.today()\n",
    "date"
   ]
  },
  {
   "cell_type": "code",
   "execution_count": 7,
   "metadata": {},
   "outputs": [],
   "source": [
    "row = Data(date=date, subscribers=3500, reviews=200)"
   ]
  },
  {
   "cell_type": "code",
   "execution_count": 8,
   "metadata": {},
   "outputs": [],
   "source": [
    "db_session.add(row)"
   ]
  },
  {
   "cell_type": "code",
   "execution_count": 9,
   "metadata": {},
   "outputs": [
    {
     "name": "stdout",
     "output_type": "stream",
     "text": [
      "2020-10-21 21:11:50,498 INFO sqlalchemy.engine.base.Engine BEGIN (implicit)\n",
      "2020-10-21 21:11:50,500 INFO sqlalchemy.engine.base.Engine INSERT INTO data (date, subscribers, reviews, timestamp) VALUES (?, ?, ?, ?)\n",
      "2020-10-21 21:11:50,501 INFO sqlalchemy.engine.base.Engine ('2020-10-21', 3500, 200, '2020-10-21 21:08:55.331400')\n",
      "2020-10-21 21:11:50,503 INFO sqlalchemy.engine.base.Engine COMMIT\n"
     ]
    }
   ],
   "source": [
    "db_session.commit()"
   ]
  },
  {
   "cell_type": "code",
   "execution_count": 11,
   "metadata": {},
   "outputs": [],
   "source": [
    "row1 = Data(date=date, subscribers=6500, reviews=210)\n",
    "row2 = Data(date=date, subscribers=1500, reviews=220)"
   ]
  },
  {
   "cell_type": "code",
   "execution_count": 12,
   "metadata": {},
   "outputs": [],
   "source": [
    "db_session.add(row1)\n",
    "db_session.add(row2)"
   ]
  },
  {
   "cell_type": "code",
   "execution_count": 13,
   "metadata": {},
   "outputs": [
    {
     "name": "stdout",
     "output_type": "stream",
     "text": [
      "2020-10-21 21:15:35,459 INFO sqlalchemy.engine.base.Engine BEGIN (implicit)\n",
      "2020-10-21 21:15:35,460 INFO sqlalchemy.engine.base.Engine INSERT INTO data (date, subscribers, reviews, timestamp) VALUES (?, ?, ?, ?)\n",
      "2020-10-21 21:15:35,461 INFO sqlalchemy.engine.base.Engine ('2020-10-21', 6500, 210, '2020-10-21 21:08:55.331400')\n",
      "2020-10-21 21:15:35,462 INFO sqlalchemy.engine.base.Engine INSERT INTO data (date, subscribers, reviews, timestamp) VALUES (?, ?, ?, ?)\n",
      "2020-10-21 21:15:35,463 INFO sqlalchemy.engine.base.Engine ('2020-10-21', 1500, 220, '2020-10-21 21:08:55.331400')\n",
      "2020-10-21 21:15:35,464 INFO sqlalchemy.engine.base.Engine COMMIT\n"
     ]
    }
   ],
   "source": [
    "db_session.commit()"
   ]
  },
  {
   "cell_type": "markdown",
   "metadata": {},
   "source": [
    "# Read"
   ]
  },
  {
   "cell_type": "code",
   "execution_count": 14,
   "metadata": {},
   "outputs": [
    {
     "name": "stdout",
     "output_type": "stream",
     "text": [
      "2020-10-21 21:16:16,971 INFO sqlalchemy.engine.base.Engine BEGIN (implicit)\n",
      "2020-10-21 21:16:16,973 INFO sqlalchemy.engine.base.Engine SELECT data.id AS data_id, data.date AS data_date, data.subscribers AS data_subscribers, data.reviews AS data_reviews, data.timestamp AS data_timestamp \n",
      "FROM data\n",
      "2020-10-21 21:16:16,974 INFO sqlalchemy.engine.base.Engine ()\n"
     ]
    },
    {
     "data": {
      "text/plain": [
       "[<assets.models.Data at 0x10a5aa760>,\n",
       " <assets.models.Data at 0x10a5184f0>,\n",
       " <assets.models.Data at 0x10a518a30>]"
      ]
     },
     "execution_count": 14,
     "metadata": {},
     "output_type": "execute_result"
    }
   ],
   "source": [
    "db_session.query(Data).all()"
   ]
  },
  {
   "cell_type": "code",
   "execution_count": 14,
   "metadata": {},
   "outputs": [
    {
     "name": "stdout",
     "output_type": "stream",
     "text": [
      "2020-10-21 21:16:16,971 INFO sqlalchemy.engine.base.Engine BEGIN (implicit)\n",
      "2020-10-21 21:16:16,973 INFO sqlalchemy.engine.base.Engine SELECT data.id AS data_id, data.date AS data_date, data.subscribers AS data_subscribers, data.reviews AS data_reviews, data.timestamp AS data_timestamp \n",
      "FROM data\n",
      "2020-10-21 21:16:16,974 INFO sqlalchemy.engine.base.Engine ()\n"
     ]
    },
    {
     "data": {
      "text/plain": [
       "[<assets.models.Data at 0x10a5aa760>,\n",
       " <assets.models.Data at 0x10a5184f0>,\n",
       " <assets.models.Data at 0x10a518a30>]"
      ]
     },
     "execution_count": 14,
     "metadata": {},
     "output_type": "execute_result"
    }
   ],
   "source": [
    "db_session.query(Data).all()"
   ]
  },
  {
   "cell_type": "code",
   "execution_count": 16,
   "metadata": {},
   "outputs": [
    {
     "name": "stdout",
     "output_type": "stream",
     "text": [
      "2020-10-21 21:17:31,148 INFO sqlalchemy.engine.base.Engine SELECT data.id AS data_id, data.date AS data_date, data.subscribers AS data_subscribers, data.reviews AS data_reviews, data.timestamp AS data_timestamp \n",
      "FROM data\n",
      "2020-10-21 21:17:31,149 INFO sqlalchemy.engine.base.Engine ()\n"
     ]
    },
    {
     "data": {
      "text/plain": [
       "6500"
      ]
     },
     "execution_count": 16,
     "metadata": {},
     "output_type": "execute_result"
    }
   ],
   "source": [
    "db_session.query(Data).all()[1].subscribers"
   ]
  },
  {
   "cell_type": "markdown",
   "metadata": {},
   "source": [
    "# Update"
   ]
  },
  {
   "cell_type": "code",
   "execution_count": 18,
   "metadata": {},
   "outputs": [
    {
     "name": "stdout",
     "output_type": "stream",
     "text": [
      "2020-10-21 21:18:44,683 INFO sqlalchemy.engine.base.Engine SELECT data.id AS data_id, data.date AS data_date, data.subscribers AS data_subscribers, data.reviews AS data_reviews, data.timestamp AS data_timestamp \n",
      "FROM data\n",
      "2020-10-21 21:18:44,684 INFO sqlalchemy.engine.base.Engine ()\n"
     ]
    },
    {
     "data": {
      "text/plain": [
       "<assets.models.Data at 0x10a5aa760>"
      ]
     },
     "execution_count": 18,
     "metadata": {},
     "output_type": "execute_result"
    }
   ],
   "source": [
    "datum = db_session.query(Data).all()[0]\n",
    "datum"
   ]
  },
  {
   "cell_type": "code",
   "execution_count": 19,
   "metadata": {},
   "outputs": [],
   "source": [
    "datum.subscribers = 10000"
   ]
  },
  {
   "cell_type": "code",
   "execution_count": 20,
   "metadata": {},
   "outputs": [
    {
     "name": "stdout",
     "output_type": "stream",
     "text": [
      "2020-10-21 21:19:26,362 INFO sqlalchemy.engine.base.Engine UPDATE data SET subscribers=? WHERE data.id = ?\n",
      "2020-10-21 21:19:26,363 INFO sqlalchemy.engine.base.Engine (10000, 1)\n",
      "2020-10-21 21:19:26,365 INFO sqlalchemy.engine.base.Engine COMMIT\n"
     ]
    }
   ],
   "source": [
    "db_session.add(datum)\n",
    "db_session.commit()"
   ]
  },
  {
   "cell_type": "code",
   "execution_count": null,
   "metadata": {},
   "outputs": [],
   "source": []
  },
  {
   "cell_type": "code",
   "execution_count": null,
   "metadata": {},
   "outputs": [],
   "source": []
  },
  {
   "cell_type": "code",
   "execution_count": 21,
   "metadata": {},
   "outputs": [
    {
     "name": "stdout",
     "output_type": "stream",
     "text": [
      "2020-10-21 21:20:24,776 INFO sqlalchemy.engine.base.Engine BEGIN (implicit)\n",
      "2020-10-21 21:20:24,777 INFO sqlalchemy.engine.base.Engine SELECT data.id AS data_id, data.date AS data_date, data.subscribers AS data_subscribers, data.reviews AS data_reviews, data.timestamp AS data_timestamp \n",
      "FROM data \n",
      "WHERE data.subscribers = ?\n",
      "2020-10-21 21:20:24,777 INFO sqlalchemy.engine.base.Engine (10000,)\n"
     ]
    },
    {
     "data": {
      "text/plain": [
       "<assets.models.Data at 0x10a5aa760>"
      ]
     },
     "execution_count": 21,
     "metadata": {},
     "output_type": "execute_result"
    }
   ],
   "source": [
    "db_session.query(Data).filter_by(subscribers=10000).one()"
   ]
  },
  {
   "cell_type": "code",
   "execution_count": 22,
   "metadata": {},
   "outputs": [
    {
     "name": "stdout",
     "output_type": "stream",
     "text": [
      "2020-10-21 21:21:01,730 INFO sqlalchemy.engine.base.Engine DELETE FROM data WHERE data.id = ?\n",
      "2020-10-21 21:21:01,731 INFO sqlalchemy.engine.base.Engine (1,)\n",
      "2020-10-21 21:21:01,733 INFO sqlalchemy.engine.base.Engine COMMIT\n"
     ]
    }
   ],
   "source": [
    "db_session.delete(datum)\n",
    "db_session.commit()"
   ]
  },
  {
   "cell_type": "code",
   "execution_count": 23,
   "metadata": {},
   "outputs": [
    {
     "name": "stdout",
     "output_type": "stream",
     "text": [
      "2020-10-21 21:21:14,122 INFO sqlalchemy.engine.base.Engine BEGIN (implicit)\n",
      "2020-10-21 21:21:14,123 INFO sqlalchemy.engine.base.Engine SELECT data.id AS data_id, data.date AS data_date, data.subscribers AS data_subscribers, data.reviews AS data_reviews, data.timestamp AS data_timestamp \n",
      "FROM data\n",
      "2020-10-21 21:21:14,124 INFO sqlalchemy.engine.base.Engine ()\n"
     ]
    },
    {
     "data": {
      "text/plain": [
       "[<assets.models.Data at 0x10a5184f0>, <assets.models.Data at 0x10a518a30>]"
      ]
     },
     "execution_count": 23,
     "metadata": {},
     "output_type": "execute_result"
    }
   ],
   "source": [
    "db_session.query(Data).all()"
   ]
  },
  {
   "cell_type": "code",
   "execution_count": 24,
   "metadata": {},
   "outputs": [
    {
     "name": "stdout",
     "output_type": "stream",
     "text": [
      "2020-10-21 21:21:44,558 INFO sqlalchemy.engine.base.Engine DELETE FROM data\n",
      "2020-10-21 21:21:44,559 INFO sqlalchemy.engine.base.Engine ()\n"
     ]
    },
    {
     "data": {
      "text/plain": [
       "2"
      ]
     },
     "execution_count": 24,
     "metadata": {},
     "output_type": "execute_result"
    }
   ],
   "source": [
    "Data.query.delete()"
   ]
  },
  {
   "cell_type": "code",
   "execution_count": null,
   "metadata": {},
   "outputs": [],
   "source": []
  }
 ],
 "metadata": {
  "kernelspec": {
   "display_name": "Python 3",
   "language": "python",
   "name": "python3"
  },
  "language_info": {
   "codemirror_mode": {
    "name": "ipython",
    "version": 3
   },
   "file_extension": ".py",
   "mimetype": "text/x-python",
   "name": "python",
   "nbconvert_exporter": "python",
   "pygments_lexer": "ipython3",
   "version": "3.8.6"
  }
 },
 "nbformat": 4,
 "nbformat_minor": 4
}
