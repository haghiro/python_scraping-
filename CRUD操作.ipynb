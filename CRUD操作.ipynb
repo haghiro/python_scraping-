{
 "cells": [
  {
   "cell_type": "code",
   "execution_count": 2,
   "metadata": {},
   "outputs": [],
   "source": [
    "from assets.database import db_session\n",
    "from assets.database import init_db\n",
    "from assets.models import Data\n",
    "\n",
    "import datetime"
   ]
  },
  {
   "cell_type": "code",
   "execution_count": 4,
   "metadata": {},
   "outputs": [
    {
     "name": "stdout",
     "output_type": "stream",
     "text": [
      "2020-10-18 22:11:27,771 INFO sqlalchemy.engine.base.Engine SELECT CAST('test plain returns' AS VARCHAR(60)) AS anon_1\n",
      "2020-10-18 22:11:27,772 INFO sqlalchemy.engine.base.Engine ()\n",
      "2020-10-18 22:11:27,773 INFO sqlalchemy.engine.base.Engine SELECT CAST('test unicode returns' AS VARCHAR(60)) AS anon_1\n",
      "2020-10-18 22:11:27,774 INFO sqlalchemy.engine.base.Engine ()\n",
      "2020-10-18 22:11:27,775 INFO sqlalchemy.engine.base.Engine PRAGMA main.table_info(\"data\")\n",
      "2020-10-18 22:11:27,776 INFO sqlalchemy.engine.base.Engine ()\n",
      "2020-10-18 22:11:27,777 INFO sqlalchemy.engine.base.Engine PRAGMA temp.table_info(\"data\")\n",
      "2020-10-18 22:11:27,778 INFO sqlalchemy.engine.base.Engine ()\n",
      "2020-10-18 22:11:27,779 INFO sqlalchemy.engine.base.Engine \n",
      "CREATE TABLE data (\n",
      "\tid INTEGER NOT NULL, \n",
      "\tdate DATE, \n",
      "\tsubscribers INTEGER, \n",
      "\treviews INTEGER, \n",
      "\ttimestamp DATETIME, \n",
      "\tPRIMARY KEY (id)\n",
      ")\n",
      "\n",
      "\n",
      "2020-10-18 22:11:27,780 INFO sqlalchemy.engine.base.Engine ()\n",
      "2020-10-18 22:11:27,781 INFO sqlalchemy.engine.base.Engine COMMIT\n"
     ]
    }
   ],
   "source": [
    "init_db()"
   ]
  },
  {
   "cell_type": "code",
   "execution_count": null,
   "metadata": {},
   "outputs": [],
   "source": []
  }
 ],
 "metadata": {
  "kernelspec": {
   "display_name": "Python 3",
   "language": "python",
   "name": "python3"
  },
  "language_info": {
   "codemirror_mode": {
    "name": "ipython",
    "version": 3
   },
   "file_extension": ".py",
   "mimetype": "text/x-python",
   "name": "python",
   "nbconvert_exporter": "python",
   "pygments_lexer": "ipython3",
   "version": "3.7.9"
  }
 },
 "nbformat": 4,
 "nbformat_minor": 4
}
